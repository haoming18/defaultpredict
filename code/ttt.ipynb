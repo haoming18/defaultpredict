{
 "cells": [
  {
   "cell_type": "code",
   "execution_count": 1,
   "metadata": {
    "collapsed": true
   },
   "outputs": [],
   "source": [
    "features_avg = ['S_2_wk','B_1', 'B_2', 'B_3', 'B_4', 'B_5', 'B_6', 'B_8', 'B_9', 'B_10', 'B_11', 'B_12', 'B_13', 'B_14', 'B_15', 'B_16', 'B_17', 'B_18',\n",
    "                'B_19', 'B_20', 'B_21', 'B_22', 'B_23', 'B_24', 'B_25', 'B_28', 'B_29', 'B_30', 'B_32', 'B_33', 'B_37', 'B_38', 'B_39', 'B_40', 'B_41', 'B_42',\n",
    "                'D_39', 'D_41', 'D_42', 'D_43', 'D_44', 'D_45', 'D_46', 'D_47', 'D_48', 'D_50', 'D_51', 'D_53', 'D_54', 'D_55', 'D_58', 'D_59', 'D_60', 'D_61',\n",
    "                'D_62', 'D_65', 'D_66', 'D_69', 'D_70', 'D_71', 'D_72', 'D_73', 'D_74', 'D_75', 'D_76', 'D_77', 'D_78', 'D_80', 'D_82', 'D_84', 'D_86', 'D_91',\n",
    "                'D_92', 'D_94', 'D_96', 'D_103', 'D_104', 'D_108', 'D_112', 'D_113', 'D_114', 'D_115', 'D_117', 'D_118', 'D_119', 'D_120', 'D_121', 'D_122', 'D_123',\n",
    "                'D_124', 'D_125', 'D_126', 'D_128', 'D_129', 'D_131', 'D_132', 'D_133', 'D_134', 'D_135', 'D_136', 'D_140', 'D_141', 'D_142', 'D_144', 'D_145',\n",
    "                'P_2', 'P_3', 'P_4', 'R_1', 'R_2', 'R_3', 'R_7', 'R_8', 'R_9', 'R_10', 'R_11', 'R_14', 'R_15', 'R_16', 'R_17', 'R_20', 'R_21', 'R_22', 'R_24',\n",
    "                'R_26', 'R_27', 'S_3', 'S_5', 'S_6', 'S_7', 'S_9', 'S_11', 'S_12', 'S_13', 'S_15', 'S_16', 'S_18', 'S_22', 'S_23', 'S_25', 'S_26']"
   ]
  },
  {
   "cell_type": "code",
   "execution_count": 2,
   "outputs": [
    {
     "data": {
      "text/plain": "141"
     },
     "execution_count": 2,
     "metadata": {},
     "output_type": "execute_result"
    }
   ],
   "source": [
    "len(features_avg)"
   ],
   "metadata": {
    "collapsed": false,
    "pycharm": {
     "name": "#%%\n"
    }
   }
  },
  {
   "cell_type": "code",
   "execution_count": 3,
   "outputs": [],
   "source": [
    "# Feature Engineering on credit risk\n",
    "## Spend variables\n",
    "spend_p=[ 'S_3',  'S_5', 'S_6', 'S_7', 'S_8', 'S_9', 'S_11', 'S_12', 'S_13', 'S_15', 'S_16', 'S_17', 'S_18', 'S_19', 'S_20', 'S_22', 'S_23', 'S_24', 'S_25', 'S_26', 'S_27']\n",
    "## Balance variables\n",
    "balance_p = ['B_1', 'B_2', 'B_3',  'B_5', 'B_6', 'B_7', 'B_8', 'B_9', 'B_10', 'B_11', 'B_12', 'B_13', 'B_14', 'B_15',  'B_17', 'B_18',  'B_21',   'B_23', 'B_24', 'B_25', 'B_26', 'B_27', 'B_28',  'B_36', 'B_37',  'B_40',    ]\n",
    "## Payment variables\n",
    "payment_p = ['P_2', 'P_3', 'P_4']\n",
    "## Delinquency variables\n",
    "delq = ['D_39',\n",
    "                'D_41', 'D_42', 'D_45', 'D_46', 'D_48', 'D_50', 'D_51', 'D_53', 'D_55', 'D_56', 'D_58', 'D_59', 'D_60', 'D_62', 'D_70', 'D_71', 'D_74',\n",
    "                'D_75', 'D_78', 'D_83', 'D_102', 'D_112', 'D_113', 'D_115', 'D_118', 'D_119', 'D_121', 'D_122', 'D_128', 'D_132', 'D_140', 'D_141', 'D_144',\n",
    "                'D_145']\n",
    "##\n",
    "cat_cols = ['B_30', 'B_38', 'D_114', 'D_116', 'D_117', 'D_120',\n",
    "            'D_126', 'D_63', 'D_64', 'D_66', 'D_68']\n",
    "\n",
    "cat_cols_avg = [col for col in cat_cols if col in features_avg]"
   ],
   "metadata": {
    "collapsed": false,
    "pycharm": {
     "name": "#%%\n"
    }
   }
  },
  {
   "cell_type": "code",
   "execution_count": 4,
   "outputs": [
    {
     "data": {
      "text/plain": "['B_30', 'B_38', 'D_114', 'D_117', 'D_120', 'D_126', 'D_66']"
     },
     "execution_count": 4,
     "metadata": {},
     "output_type": "execute_result"
    }
   ],
   "source": [
    "cat_cols_avg"
   ],
   "metadata": {
    "collapsed": false,
    "pycharm": {
     "name": "#%%\n"
    }
   }
  },
  {
   "cell_type": "code",
   "execution_count": 7,
   "outputs": [
    {
     "data": {
      "text/plain": "{'__name__': '__main__',\n '__doc__': 'Automatically created module for IPython interactive environment',\n '__package__': None,\n '__loader__': None,\n '__spec__': None,\n '__builtin__': <module 'builtins' (built-in)>,\n '__builtins__': <module 'builtins' (built-in)>,\n '_ih': ['',\n  \"features_avg = ['S_2_wk','B_1', 'B_2', 'B_3', 'B_4', 'B_5', 'B_6', 'B_8', 'B_9', 'B_10', 'B_11', 'B_12', 'B_13', 'B_14', 'B_15', 'B_16', 'B_17', 'B_18',\\n                'B_19', 'B_20', 'B_21', 'B_22', 'B_23', 'B_24', 'B_25', 'B_28', 'B_29', 'B_30', 'B_32', 'B_33', 'B_37', 'B_38', 'B_39', 'B_40', 'B_41', 'B_42',\\n                'D_39', 'D_41', 'D_42', 'D_43', 'D_44', 'D_45', 'D_46', 'D_47', 'D_48', 'D_50', 'D_51', 'D_53', 'D_54', 'D_55', 'D_58', 'D_59', 'D_60', 'D_61', \\n                'D_62', 'D_65', 'D_66', 'D_69', 'D_70', 'D_71', 'D_72', 'D_73', 'D_74', 'D_75', 'D_76', 'D_77', 'D_78', 'D_80', 'D_82', 'D_84', 'D_86', 'D_91', \\n                'D_92', 'D_94', 'D_96', 'D_103', 'D_104', 'D_108', 'D_112', 'D_113', 'D_114', 'D_115', 'D_117', 'D_118', 'D_119', 'D_120', 'D_121', 'D_122', 'D_123',\\n                'D_124', 'D_125', 'D_126', 'D_128', 'D_129', 'D_131', 'D_132', 'D_133', 'D_134', 'D_135', 'D_136', 'D_140', 'D_141', 'D_142', 'D_144', 'D_145',\\n                'P_2', 'P_3', 'P_4', 'R_1', 'R_2', 'R_3', 'R_7', 'R_8', 'R_9', 'R_10', 'R_11', 'R_14', 'R_15', 'R_16', 'R_17', 'R_20', 'R_21', 'R_22', 'R_24', \\n                'R_26', 'R_27', 'S_3', 'S_5', 'S_6', 'S_7', 'S_9', 'S_11', 'S_12', 'S_13', 'S_15', 'S_16', 'S_18', 'S_22', 'S_23', 'S_25', 'S_26']\",\n  'len(features_avg)',\n  \"# Feature Engineering on credit risk\\n## Spend variables\\nspend_p=[ 'S_3',  'S_5', 'S_6', 'S_7', 'S_8', 'S_9', 'S_11', 'S_12', 'S_13', 'S_15', 'S_16', 'S_17', 'S_18', 'S_19', 'S_20', 'S_22', 'S_23', 'S_24', 'S_25', 'S_26', 'S_27']\\n## Balance variables\\nbalance_p = ['B_1', 'B_2', 'B_3',  'B_5', 'B_6', 'B_7', 'B_8', 'B_9', 'B_10', 'B_11', 'B_12', 'B_13', 'B_14', 'B_15',  'B_17', 'B_18',  'B_21',   'B_23', 'B_24', 'B_25', 'B_26', 'B_27', 'B_28',  'B_36', 'B_37',  'B_40',    ]\\n## Payment variables\\npayment_p = ['P_2', 'P_3', 'P_4']\\n## Delinquency variables\\ndelq = ['D_39',\\n                'D_41', 'D_42', 'D_45', 'D_46', 'D_48', 'D_50', 'D_51', 'D_53', 'D_55', 'D_56', 'D_58', 'D_59', 'D_60', 'D_62', 'D_70', 'D_71', 'D_74', \\n                'D_75', 'D_78', 'D_83', 'D_102', 'D_112', 'D_113', 'D_115', 'D_118', 'D_119', 'D_121', 'D_122', 'D_128', 'D_132', 'D_140', 'D_141', 'D_144',\\n                'D_145']  \\n## \\ncat_cols = ['B_30', 'B_38', 'D_114', 'D_116', 'D_117', 'D_120',\\n            'D_126', 'D_63', 'D_64', 'D_66', 'D_68']     \\n\\ncat_cols_avg = [col for col in cat_cols if col in features_avg]\",\n  'cat_cols_avg',\n  'globals()',\n  \"globals()['__name__']\",\n  'globals()'],\n '_oh': {2: 141,\n  4: ['B_30', 'B_38', 'D_114', 'D_117', 'D_120', 'D_126', 'D_66'],\n  5: {...},\n  6: '__main__'},\n '_dh': ['/Users/wanghaoming/Library/Containers/com.tencent.xinWeChat/Data/Library/Application Support/com.tencent.xinWeChat/2.0b4.0.9/f9d1c907dd81c0ded089fffad5155a0d/Message/MessageTemp/b1a9f51260b475137b3045eab57e6eb8/File/AE竞赛简历+代码+PPT/代码/code'],\n 'In': ['',\n  \"features_avg = ['S_2_wk','B_1', 'B_2', 'B_3', 'B_4', 'B_5', 'B_6', 'B_8', 'B_9', 'B_10', 'B_11', 'B_12', 'B_13', 'B_14', 'B_15', 'B_16', 'B_17', 'B_18',\\n                'B_19', 'B_20', 'B_21', 'B_22', 'B_23', 'B_24', 'B_25', 'B_28', 'B_29', 'B_30', 'B_32', 'B_33', 'B_37', 'B_38', 'B_39', 'B_40', 'B_41', 'B_42',\\n                'D_39', 'D_41', 'D_42', 'D_43', 'D_44', 'D_45', 'D_46', 'D_47', 'D_48', 'D_50', 'D_51', 'D_53', 'D_54', 'D_55', 'D_58', 'D_59', 'D_60', 'D_61', \\n                'D_62', 'D_65', 'D_66', 'D_69', 'D_70', 'D_71', 'D_72', 'D_73', 'D_74', 'D_75', 'D_76', 'D_77', 'D_78', 'D_80', 'D_82', 'D_84', 'D_86', 'D_91', \\n                'D_92', 'D_94', 'D_96', 'D_103', 'D_104', 'D_108', 'D_112', 'D_113', 'D_114', 'D_115', 'D_117', 'D_118', 'D_119', 'D_120', 'D_121', 'D_122', 'D_123',\\n                'D_124', 'D_125', 'D_126', 'D_128', 'D_129', 'D_131', 'D_132', 'D_133', 'D_134', 'D_135', 'D_136', 'D_140', 'D_141', 'D_142', 'D_144', 'D_145',\\n                'P_2', 'P_3', 'P_4', 'R_1', 'R_2', 'R_3', 'R_7', 'R_8', 'R_9', 'R_10', 'R_11', 'R_14', 'R_15', 'R_16', 'R_17', 'R_20', 'R_21', 'R_22', 'R_24', \\n                'R_26', 'R_27', 'S_3', 'S_5', 'S_6', 'S_7', 'S_9', 'S_11', 'S_12', 'S_13', 'S_15', 'S_16', 'S_18', 'S_22', 'S_23', 'S_25', 'S_26']\",\n  'len(features_avg)',\n  \"# Feature Engineering on credit risk\\n## Spend variables\\nspend_p=[ 'S_3',  'S_5', 'S_6', 'S_7', 'S_8', 'S_9', 'S_11', 'S_12', 'S_13', 'S_15', 'S_16', 'S_17', 'S_18', 'S_19', 'S_20', 'S_22', 'S_23', 'S_24', 'S_25', 'S_26', 'S_27']\\n## Balance variables\\nbalance_p = ['B_1', 'B_2', 'B_3',  'B_5', 'B_6', 'B_7', 'B_8', 'B_9', 'B_10', 'B_11', 'B_12', 'B_13', 'B_14', 'B_15',  'B_17', 'B_18',  'B_21',   'B_23', 'B_24', 'B_25', 'B_26', 'B_27', 'B_28',  'B_36', 'B_37',  'B_40',    ]\\n## Payment variables\\npayment_p = ['P_2', 'P_3', 'P_4']\\n## Delinquency variables\\ndelq = ['D_39',\\n                'D_41', 'D_42', 'D_45', 'D_46', 'D_48', 'D_50', 'D_51', 'D_53', 'D_55', 'D_56', 'D_58', 'D_59', 'D_60', 'D_62', 'D_70', 'D_71', 'D_74', \\n                'D_75', 'D_78', 'D_83', 'D_102', 'D_112', 'D_113', 'D_115', 'D_118', 'D_119', 'D_121', 'D_122', 'D_128', 'D_132', 'D_140', 'D_141', 'D_144',\\n                'D_145']  \\n## \\ncat_cols = ['B_30', 'B_38', 'D_114', 'D_116', 'D_117', 'D_120',\\n            'D_126', 'D_63', 'D_64', 'D_66', 'D_68']     \\n\\ncat_cols_avg = [col for col in cat_cols if col in features_avg]\",\n  'cat_cols_avg',\n  'globals()',\n  \"globals()['__name__']\",\n  'globals()'],\n 'Out': {2: 141,\n  4: ['B_30', 'B_38', 'D_114', 'D_117', 'D_120', 'D_126', 'D_66'],\n  5: {...},\n  6: '__main__'},\n 'get_ipython': <bound method InteractiveShell.get_ipython of <ipykernel.zmqshell.ZMQInteractiveShell object at 0x7fc5c85b03d0>>,\n 'exit': <IPython.core.autocall.ZMQExitAutocall at 0x7fc5c85c25e0>,\n 'quit': <IPython.core.autocall.ZMQExitAutocall at 0x7fc5c85c25e0>,\n '_': '__main__',\n '__': {...},\n '___': ['B_30', 'B_38', 'D_114', 'D_117', 'D_120', 'D_126', 'D_66'],\n '_i': \"globals()['__name__']\",\n '_ii': 'globals()',\n '_iii': 'cat_cols_avg',\n '_i1': \"features_avg = ['S_2_wk','B_1', 'B_2', 'B_3', 'B_4', 'B_5', 'B_6', 'B_8', 'B_9', 'B_10', 'B_11', 'B_12', 'B_13', 'B_14', 'B_15', 'B_16', 'B_17', 'B_18',\\n                'B_19', 'B_20', 'B_21', 'B_22', 'B_23', 'B_24', 'B_25', 'B_28', 'B_29', 'B_30', 'B_32', 'B_33', 'B_37', 'B_38', 'B_39', 'B_40', 'B_41', 'B_42',\\n                'D_39', 'D_41', 'D_42', 'D_43', 'D_44', 'D_45', 'D_46', 'D_47', 'D_48', 'D_50', 'D_51', 'D_53', 'D_54', 'D_55', 'D_58', 'D_59', 'D_60', 'D_61', \\n                'D_62', 'D_65', 'D_66', 'D_69', 'D_70', 'D_71', 'D_72', 'D_73', 'D_74', 'D_75', 'D_76', 'D_77', 'D_78', 'D_80', 'D_82', 'D_84', 'D_86', 'D_91', \\n                'D_92', 'D_94', 'D_96', 'D_103', 'D_104', 'D_108', 'D_112', 'D_113', 'D_114', 'D_115', 'D_117', 'D_118', 'D_119', 'D_120', 'D_121', 'D_122', 'D_123',\\n                'D_124', 'D_125', 'D_126', 'D_128', 'D_129', 'D_131', 'D_132', 'D_133', 'D_134', 'D_135', 'D_136', 'D_140', 'D_141', 'D_142', 'D_144', 'D_145',\\n                'P_2', 'P_3', 'P_4', 'R_1', 'R_2', 'R_3', 'R_7', 'R_8', 'R_9', 'R_10', 'R_11', 'R_14', 'R_15', 'R_16', 'R_17', 'R_20', 'R_21', 'R_22', 'R_24', \\n                'R_26', 'R_27', 'S_3', 'S_5', 'S_6', 'S_7', 'S_9', 'S_11', 'S_12', 'S_13', 'S_15', 'S_16', 'S_18', 'S_22', 'S_23', 'S_25', 'S_26']\",\n 'features_avg': ['S_2_wk',\n  'B_1',\n  'B_2',\n  'B_3',\n  'B_4',\n  'B_5',\n  'B_6',\n  'B_8',\n  'B_9',\n  'B_10',\n  'B_11',\n  'B_12',\n  'B_13',\n  'B_14',\n  'B_15',\n  'B_16',\n  'B_17',\n  'B_18',\n  'B_19',\n  'B_20',\n  'B_21',\n  'B_22',\n  'B_23',\n  'B_24',\n  'B_25',\n  'B_28',\n  'B_29',\n  'B_30',\n  'B_32',\n  'B_33',\n  'B_37',\n  'B_38',\n  'B_39',\n  'B_40',\n  'B_41',\n  'B_42',\n  'D_39',\n  'D_41',\n  'D_42',\n  'D_43',\n  'D_44',\n  'D_45',\n  'D_46',\n  'D_47',\n  'D_48',\n  'D_50',\n  'D_51',\n  'D_53',\n  'D_54',\n  'D_55',\n  'D_58',\n  'D_59',\n  'D_60',\n  'D_61',\n  'D_62',\n  'D_65',\n  'D_66',\n  'D_69',\n  'D_70',\n  'D_71',\n  'D_72',\n  'D_73',\n  'D_74',\n  'D_75',\n  'D_76',\n  'D_77',\n  'D_78',\n  'D_80',\n  'D_82',\n  'D_84',\n  'D_86',\n  'D_91',\n  'D_92',\n  'D_94',\n  'D_96',\n  'D_103',\n  'D_104',\n  'D_108',\n  'D_112',\n  'D_113',\n  'D_114',\n  'D_115',\n  'D_117',\n  'D_118',\n  'D_119',\n  'D_120',\n  'D_121',\n  'D_122',\n  'D_123',\n  'D_124',\n  'D_125',\n  'D_126',\n  'D_128',\n  'D_129',\n  'D_131',\n  'D_132',\n  'D_133',\n  'D_134',\n  'D_135',\n  'D_136',\n  'D_140',\n  'D_141',\n  'D_142',\n  'D_144',\n  'D_145',\n  'P_2',\n  'P_3',\n  'P_4',\n  'R_1',\n  'R_2',\n  'R_3',\n  'R_7',\n  'R_8',\n  'R_9',\n  'R_10',\n  'R_11',\n  'R_14',\n  'R_15',\n  'R_16',\n  'R_17',\n  'R_20',\n  'R_21',\n  'R_22',\n  'R_24',\n  'R_26',\n  'R_27',\n  'S_3',\n  'S_5',\n  'S_6',\n  'S_7',\n  'S_9',\n  'S_11',\n  'S_12',\n  'S_13',\n  'S_15',\n  'S_16',\n  'S_18',\n  'S_22',\n  'S_23',\n  'S_25',\n  'S_26'],\n 'sys': <module 'sys' (built-in)>,\n 'remove_imported_pydev_package': <function pydev_jupyter_utils.remove_imported_pydev_package()>,\n '_pydevd_bundle': <module '_pydevd_bundle' from '/Applications/PyCharm.app/Contents/plugins/python/helpers/pydev/_pydevd_bundle/__init__.py'>,\n 'pydev_jupyter_vars': <module 'pydev_jupyter_vars' from '/Applications/PyCharm.app/Contents/plugins/python/helpers-pro/jupyter_debug/pydev_jupyter_vars.py'>,\n 'DataFrame': pandas.core.frame.DataFrame,\n 'MultiIndex': pandas.core.indexes.multi.MultiIndex,\n 'print_columns': <function __main__.print_columns(name, column_number)>,\n '_i2': 'len(features_avg)',\n '_2': 141,\n '_i3': \"# Feature Engineering on credit risk\\n## Spend variables\\nspend_p=[ 'S_3',  'S_5', 'S_6', 'S_7', 'S_8', 'S_9', 'S_11', 'S_12', 'S_13', 'S_15', 'S_16', 'S_17', 'S_18', 'S_19', 'S_20', 'S_22', 'S_23', 'S_24', 'S_25', 'S_26', 'S_27']\\n## Balance variables\\nbalance_p = ['B_1', 'B_2', 'B_3',  'B_5', 'B_6', 'B_7', 'B_8', 'B_9', 'B_10', 'B_11', 'B_12', 'B_13', 'B_14', 'B_15',  'B_17', 'B_18',  'B_21',   'B_23', 'B_24', 'B_25', 'B_26', 'B_27', 'B_28',  'B_36', 'B_37',  'B_40',    ]\\n## Payment variables\\npayment_p = ['P_2', 'P_3', 'P_4']\\n## Delinquency variables\\ndelq = ['D_39',\\n                'D_41', 'D_42', 'D_45', 'D_46', 'D_48', 'D_50', 'D_51', 'D_53', 'D_55', 'D_56', 'D_58', 'D_59', 'D_60', 'D_62', 'D_70', 'D_71', 'D_74', \\n                'D_75', 'D_78', 'D_83', 'D_102', 'D_112', 'D_113', 'D_115', 'D_118', 'D_119', 'D_121', 'D_122', 'D_128', 'D_132', 'D_140', 'D_141', 'D_144',\\n                'D_145']  \\n## \\ncat_cols = ['B_30', 'B_38', 'D_114', 'D_116', 'D_117', 'D_120',\\n            'D_126', 'D_63', 'D_64', 'D_66', 'D_68']     \\n\\ncat_cols_avg = [col for col in cat_cols if col in features_avg]\",\n 'spend_p': ['S_3',\n  'S_5',\n  'S_6',\n  'S_7',\n  'S_8',\n  'S_9',\n  'S_11',\n  'S_12',\n  'S_13',\n  'S_15',\n  'S_16',\n  'S_17',\n  'S_18',\n  'S_19',\n  'S_20',\n  'S_22',\n  'S_23',\n  'S_24',\n  'S_25',\n  'S_26',\n  'S_27'],\n 'balance_p': ['B_1',\n  'B_2',\n  'B_3',\n  'B_5',\n  'B_6',\n  'B_7',\n  'B_8',\n  'B_9',\n  'B_10',\n  'B_11',\n  'B_12',\n  'B_13',\n  'B_14',\n  'B_15',\n  'B_17',\n  'B_18',\n  'B_21',\n  'B_23',\n  'B_24',\n  'B_25',\n  'B_26',\n  'B_27',\n  'B_28',\n  'B_36',\n  'B_37',\n  'B_40'],\n 'payment_p': ['P_2', 'P_3', 'P_4'],\n 'delq': ['D_39',\n  'D_41',\n  'D_42',\n  'D_45',\n  'D_46',\n  'D_48',\n  'D_50',\n  'D_51',\n  'D_53',\n  'D_55',\n  'D_56',\n  'D_58',\n  'D_59',\n  'D_60',\n  'D_62',\n  'D_70',\n  'D_71',\n  'D_74',\n  'D_75',\n  'D_78',\n  'D_83',\n  'D_102',\n  'D_112',\n  'D_113',\n  'D_115',\n  'D_118',\n  'D_119',\n  'D_121',\n  'D_122',\n  'D_128',\n  'D_132',\n  'D_140',\n  'D_141',\n  'D_144',\n  'D_145'],\n 'cat_cols': ['B_30',\n  'B_38',\n  'D_114',\n  'D_116',\n  'D_117',\n  'D_120',\n  'D_126',\n  'D_63',\n  'D_64',\n  'D_66',\n  'D_68'],\n 'cat_cols_avg': ['B_30', 'B_38', 'D_114', 'D_117', 'D_120', 'D_126', 'D_66'],\n '_i4': 'cat_cols_avg',\n '_4': ['B_30', 'B_38', 'D_114', 'D_117', 'D_120', 'D_126', 'D_66'],\n '_i5': 'globals()',\n '_5': {...},\n '_i6': \"globals()['__name__']\",\n '_6': '__main__',\n '_i7': 'globals()'}"
     },
     "execution_count": 7,
     "metadata": {},
     "output_type": "execute_result"
    }
   ],
   "source": [
    "globals()"
   ],
   "metadata": {
    "collapsed": false,
    "pycharm": {
     "name": "#%%\n"
    }
   }
  },
  {
   "cell_type": "code",
   "execution_count": null,
   "outputs": [],
   "source": [],
   "metadata": {
    "collapsed": false,
    "pycharm": {
     "name": "#%%\n"
    }
   }
  }
 ],
 "metadata": {
  "kernelspec": {
   "display_name": "Python 3",
   "language": "python",
   "name": "python3"
  },
  "language_info": {
   "codemirror_mode": {
    "name": "ipython",
    "version": 2
   },
   "file_extension": ".py",
   "mimetype": "text/x-python",
   "name": "python",
   "nbconvert_exporter": "python",
   "pygments_lexer": "ipython2",
   "version": "2.7.6"
  }
 },
 "nbformat": 4,
 "nbformat_minor": 0
}